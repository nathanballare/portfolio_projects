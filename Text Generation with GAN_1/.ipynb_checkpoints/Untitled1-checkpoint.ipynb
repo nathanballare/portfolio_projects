{
 "cells": [
  {
   "cell_type": "code",
   "execution_count": 1,
   "id": "871ecece",
   "metadata": {},
   "outputs": [],
   "source": [
    "import tensorflow as tf\n",
    "import numpy as np\n",
    "import random\n",
    "import os"
   ]
  },
  {
   "cell_type": "code",
   "execution_count": 2,
   "id": "f486c497",
   "metadata": {},
   "outputs": [],
   "source": [
    "# Leitura do arquivo de texto\n",
    "text = open('luladiscursos.txt', \"r\", encoding=\"utf-8\").read()"
   ]
  },
  {
   "cell_type": "code",
   "execution_count": 3,
   "id": "99f212b1",
   "metadata": {},
   "outputs": [
    {
     "name": "stdout",
     "output_type": "stream",
     "text": [
      "96 unique characters\n"
     ]
    }
   ],
   "source": [
    "# The unique characters in the file\n",
    "vocab = sorted(set(text))\n",
    "print(f'{len(vocab)} unique characters')"
   ]
  },
  {
   "cell_type": "code",
   "execution_count": 4,
   "id": "9f71618f",
   "metadata": {},
   "outputs": [
    {
     "data": {
      "text/plain": [
       "<tf.RaggedTensor [[b'a', b'b', b'c', b'd', b'e', b'f', b'g'], [b'x', b'y', b'z']]>"
      ]
     },
     "execution_count": 4,
     "metadata": {},
     "output_type": "execute_result"
    }
   ],
   "source": [
    "example_texts = ['abcdefg', 'xyz']\n",
    "\n",
    "chars = tf.strings.unicode_split(example_texts, input_encoding='UTF-8')\n",
    "chars"
   ]
  },
  {
   "cell_type": "code",
   "execution_count": 5,
   "id": "a587081b",
   "metadata": {},
   "outputs": [],
   "source": [
    "ids_from_chars = tf.keras.layers.StringLookup(\n",
    "    vocabulary=list(vocab), mask_token=None)"
   ]
  },
  {
   "cell_type": "code",
   "execution_count": 6,
   "id": "9a1564d1",
   "metadata": {},
   "outputs": [
    {
     "data": {
      "text/plain": [
       "<tf.RaggedTensor [[49, 50, 51, 52, 53, 54, 55], [72, 73, 74]]>"
      ]
     },
     "execution_count": 6,
     "metadata": {},
     "output_type": "execute_result"
    }
   ],
   "source": [
    "ids = ids_from_chars(chars)\n",
    "ids"
   ]
  },
  {
   "cell_type": "code",
   "execution_count": 7,
   "id": "04ba971d",
   "metadata": {},
   "outputs": [],
   "source": [
    "chars_from_ids = tf.keras.layers.StringLookup(\n",
    "    vocabulary=ids_from_chars.get_vocabulary(), invert=True, mask_token=None)"
   ]
  },
  {
   "cell_type": "code",
   "execution_count": 8,
   "id": "125bf163",
   "metadata": {},
   "outputs": [
    {
     "data": {
      "text/plain": [
       "<tf.RaggedTensor [[b'a', b'b', b'c', b'd', b'e', b'f', b'g'], [b'x', b'y', b'z']]>"
      ]
     },
     "execution_count": 8,
     "metadata": {},
     "output_type": "execute_result"
    }
   ],
   "source": [
    "chars = chars_from_ids(ids)\n",
    "chars"
   ]
  },
  {
   "cell_type": "code",
   "execution_count": 9,
   "id": "8fe8edb3",
   "metadata": {},
   "outputs": [
    {
     "data": {
      "text/plain": [
       "array([b'abcdefg', b'xyz'], dtype=object)"
      ]
     },
     "execution_count": 9,
     "metadata": {},
     "output_type": "execute_result"
    }
   ],
   "source": [
    "tf.strings.reduce_join(chars, axis=-1).numpy()"
   ]
  },
  {
   "cell_type": "code",
   "execution_count": 10,
   "id": "d5bb0769",
   "metadata": {},
   "outputs": [],
   "source": [
    "def text_from_ids(ids):\n",
    "  return tf.strings.reduce_join(chars_from_ids(ids), axis=-1)"
   ]
  },
  {
   "cell_type": "code",
   "execution_count": 11,
   "id": "d2f4d947",
   "metadata": {},
   "outputs": [
    {
     "data": {
      "text/plain": [
       "<tf.Tensor: shape=(129428,), dtype=int64, numpy=array([18,  1, 25, ..., 49, 52, 63], dtype=int64)>"
      ]
     },
     "execution_count": 11,
     "metadata": {},
     "output_type": "execute_result"
    }
   ],
   "source": [
    "all_ids = ids_from_chars(tf.strings.unicode_split(text, 'UTF-8'))\n",
    "all_ids"
   ]
  },
  {
   "cell_type": "code",
   "execution_count": 12,
   "id": "e8c01c17",
   "metadata": {},
   "outputs": [],
   "source": [
    "ids_dataset = tf.data.Dataset.from_tensor_slices(all_ids)"
   ]
  },
  {
   "cell_type": "code",
   "execution_count": 13,
   "id": "0d98eac4",
   "metadata": {},
   "outputs": [
    {
     "name": "stdout",
     "output_type": "stream",
     "text": [
      "7\n",
      "\n",
      "\n",
      "B\n",
      "r\n",
      "a\n",
      "s\n",
      "í\n",
      "l\n",
      "i\n",
      "a\n"
     ]
    }
   ],
   "source": [
    "for ids in ids_dataset.take(10):\n",
    "    print(chars_from_ids(ids).numpy().decode('utf-8'))"
   ]
  },
  {
   "cell_type": "code",
   "execution_count": 14,
   "id": "3280390f",
   "metadata": {},
   "outputs": [],
   "source": [
    "seq_length = 100\n",
    "examples_per_epoch = len(text)//(seq_length+1)"
   ]
  },
  {
   "cell_type": "code",
   "execution_count": 15,
   "id": "be4778af",
   "metadata": {},
   "outputs": [
    {
     "name": "stdout",
     "output_type": "stream",
     "text": [
      "tf.Tensor(\n",
      "[b'7' b'\\n' b'B' b'r' b'a' b's' b'\\xc3\\xad' b'l' b'i' b'a' b',' b' ' b'1'\n",
      " b'\\xc2\\xba' b' ' b'd' b'e' b' ' b'j' b'a' b'n' b'e' b'i' b'r' b'o' b' '\n",
      " b'd' b'e' b' ' b'2' b'0' b'0' b'3' b'\\n' b'E' b'x' b'm' b'o' b's' b'.'\n",
      " b' ' b'S' b'r' b's' b'.' b' ' b'C' b'h' b'e' b'f' b'e' b's' b' ' b'd'\n",
      " b'e' b' ' b'E' b's' b't' b'a' b'd' b'o' b' ' b'e' b' ' b'd' b'e' b' '\n",
      " b'G' b'o' b'v' b'e' b'r' b'n' b'o' b';' b' ' b's' b'e' b'n' b'h' b'o'\n",
      " b'r' b'a' b's' b' ' b'e' b'\\n' b's' b'e' b'n' b'h' b'o' b'r' b'e' b's'\n",
      " b';' b' ' b'v' b'i' b's'], shape=(101,), dtype=string)\n"
     ]
    }
   ],
   "source": [
    "sequences = ids_dataset.batch(seq_length+1, drop_remainder=True)\n",
    "\n",
    "for seq in sequences.take(1):\n",
    "  print(chars_from_ids(seq))"
   ]
  },
  {
   "cell_type": "code",
   "execution_count": 16,
   "id": "7f4b5040",
   "metadata": {},
   "outputs": [
    {
     "name": "stdout",
     "output_type": "stream",
     "text": [
      "b'7\\nBras\\xc3\\xadlia, 1\\xc2\\xba de janeiro de 2003\\nExmos. Srs. Chefes de Estado e de Governo; senhoras e\\nsenhores; vis'\n",
      "b'itantes e chefes das miss\\xc3\\xb5es especiais estrangeiras;\\nExmo. Sr. Presidente do Congresso Nacional Senad'\n",
      "b'or Ramez\\nTebet;\\nExmo. Sr. Vice-Presidente da Rep\\xc3\\xbablica, Jos\\xc3\\xa9 Alencar;\\nExmo. Sr. Presidente da C\\xc3\\xa2mara '\n",
      "b'dos Deputados, Deputado Efraim\\nMorais, Exmo. Sr. Presidente do Supremo Tribunal Federal,\\nMinistro Mar'\n",
      "b'co Aur\\xc3\\xa9lio Mendes de Faria Mello; Sras. e Srs.\\nMinistros e Ministras de Estado; Sras. e Srs. Parlamen'\n"
     ]
    }
   ],
   "source": [
    "for seq in sequences.take(5):\n",
    "  print(text_from_ids(seq).numpy())"
   ]
  },
  {
   "cell_type": "code",
   "execution_count": 17,
   "id": "69588128",
   "metadata": {},
   "outputs": [],
   "source": [
    "def split_input_target(sequence):\n",
    "    input_text = sequence[:-1]\n",
    "    target_text = sequence[1:]\n",
    "    return input_text, target_text"
   ]
  },
  {
   "cell_type": "code",
   "execution_count": 18,
   "id": "9badc8a4",
   "metadata": {},
   "outputs": [
    {
     "data": {
      "text/plain": [
       "(['T', 'e', 'n', 's', 'o', 'r', 'f', 'l', 'o'],\n",
       " ['e', 'n', 's', 'o', 'r', 'f', 'l', 'o', 'w'])"
      ]
     },
     "execution_count": 18,
     "metadata": {},
     "output_type": "execute_result"
    }
   ],
   "source": [
    "split_input_target(list(\"Tensorflow\"))"
   ]
  },
  {
   "cell_type": "code",
   "execution_count": 19,
   "id": "aefd6048",
   "metadata": {},
   "outputs": [],
   "source": [
    "dataset = sequences.map(split_input_target)"
   ]
  },
  {
   "cell_type": "code",
   "execution_count": 20,
   "id": "61b35b6e",
   "metadata": {},
   "outputs": [
    {
     "name": "stdout",
     "output_type": "stream",
     "text": [
      "Input : b'7\\nBras\\xc3\\xadlia, 1\\xc2\\xba de janeiro de 2003\\nExmos. Srs. Chefes de Estado e de Governo; senhoras e\\nsenhores; vi'\n",
      "Target: b'\\nBras\\xc3\\xadlia, 1\\xc2\\xba de janeiro de 2003\\nExmos. Srs. Chefes de Estado e de Governo; senhoras e\\nsenhores; vis'\n"
     ]
    }
   ],
   "source": [
    "for input_example, target_example in dataset.take(1):\n",
    "    print(\"Input :\", text_from_ids(input_example).numpy())\n",
    "    print(\"Target:\", text_from_ids(target_example).numpy())"
   ]
  },
  {
   "cell_type": "code",
   "execution_count": 21,
   "id": "e962b90d",
   "metadata": {},
   "outputs": [
    {
     "data": {
      "text/plain": [
       "<_PrefetchDataset element_spec=(TensorSpec(shape=(64, 100), dtype=tf.int64, name=None), TensorSpec(shape=(64, 100), dtype=tf.int64, name=None))>"
      ]
     },
     "execution_count": 21,
     "metadata": {},
     "output_type": "execute_result"
    }
   ],
   "source": [
    "# Configurando os lotes de treinamento\n",
    "BATCH_SIZE = 64\n",
    "BUFFER_SIZE = 10000\n",
    "\n",
    "dataset = (\n",
    "    dataset\n",
    "    .shuffle(BUFFER_SIZE)\n",
    "    .batch(BATCH_SIZE, drop_remainder=True)\n",
    "    .prefetch(tf.data.experimental.AUTOTUNE))\n",
    "\n",
    "dataset"
   ]
  },
  {
   "cell_type": "code",
   "execution_count": 22,
   "id": "7d5ccd95",
   "metadata": {},
   "outputs": [],
   "source": [
    "# Length of the vocabulary in chars\n",
    "vocab_size = len(vocab)\n",
    "\n",
    "# The embedding dimension\n",
    "embedding_dim = 256\n",
    "\n",
    "# Number of RNN units\n",
    "rnn_units = 1024"
   ]
  },
  {
   "cell_type": "code",
   "execution_count": 23,
   "id": "5558628a",
   "metadata": {},
   "outputs": [],
   "source": [
    "class MyModel(tf.keras.Model):\n",
    "  def __init__(self, vocab_size, embedding_dim, rnn_units):\n",
    "    super().__init__(self)\n",
    "    self.embedding = tf.keras.layers.Embedding(vocab_size, embedding_dim)\n",
    "    self.gru = tf.keras.layers.GRU(rnn_units,\n",
    "                                   return_sequences=True,\n",
    "                                   return_state=True)\n",
    "    self.dense = tf.keras.layers.Dense(vocab_size)\n",
    "\n",
    "  def call(self, inputs, states=None, return_state=False, training=False):\n",
    "    x = inputs\n",
    "    x = self.embedding(x, training=training)\n",
    "    if states is None:\n",
    "      states = self.gru.get_initial_state(x)\n",
    "    x, states = self.gru(x, initial_state=states, training=training)\n",
    "    x = self.dense(x, training=training)\n",
    "\n",
    "    if return_state:\n",
    "      return x, states\n",
    "    else:\n",
    "      return x\n"
   ]
  },
  {
   "cell_type": "code",
   "execution_count": 24,
   "id": "08936c6b",
   "metadata": {},
   "outputs": [],
   "source": [
    "model = MyModel(\n",
    "    # Be sure the vocabulary size matches the `StringLookup` layers.\n",
    "    vocab_size=len(ids_from_chars.get_vocabulary()),\n",
    "    embedding_dim=embedding_dim,\n",
    "    rnn_units=rnn_units)"
   ]
  },
  {
   "cell_type": "code",
   "execution_count": 25,
   "id": "c7560114",
   "metadata": {},
   "outputs": [
    {
     "name": "stdout",
     "output_type": "stream",
     "text": [
      "(64, 100, 97) # (batch_size, sequence_length, vocab_size)\n"
     ]
    }
   ],
   "source": [
    "for input_example_batch, target_example_batch in dataset.take(1):\n",
    "    example_batch_predictions = model(input_example_batch)\n",
    "    print(example_batch_predictions.shape, \"# (batch_size, sequence_length, vocab_size)\")"
   ]
  },
  {
   "cell_type": "code",
   "execution_count": 26,
   "id": "622e2055",
   "metadata": {},
   "outputs": [
    {
     "name": "stdout",
     "output_type": "stream",
     "text": [
      "Model: \"my_model\"\n",
      "_________________________________________________________________\n",
      " Layer (type)                Output Shape              Param #   \n",
      "=================================================================\n",
      " embedding (Embedding)       multiple                  24832     \n",
      "                                                                 \n",
      " gru (GRU)                   multiple                  3938304   \n",
      "                                                                 \n",
      " dense (Dense)               multiple                  99425     \n",
      "                                                                 \n",
      "=================================================================\n",
      "Total params: 4062561 (15.50 MB)\n",
      "Trainable params: 4062561 (15.50 MB)\n",
      "Non-trainable params: 0 (0.00 Byte)\n",
      "_________________________________________________________________\n"
     ]
    }
   ],
   "source": [
    "# Verificando o resumo do modelo\n",
    "model.summary()"
   ]
  },
  {
   "cell_type": "code",
   "execution_count": 27,
   "id": "88f99b16",
   "metadata": {},
   "outputs": [],
   "source": [
    "sampled_indices = tf.random.categorical(example_batch_predictions[0], num_samples=1)\n",
    "sampled_indices = tf.squeeze(sampled_indices, axis=-1).numpy()"
   ]
  },
  {
   "cell_type": "code",
   "execution_count": 28,
   "id": "3851dd44",
   "metadata": {},
   "outputs": [
    {
     "data": {
      "text/plain": [
       "array([61, 81, 27, 34, 23, 48, 63, 28, 79, 15, 22, 79, 24, 51, 29, 60, 59,\n",
       "       38, 40, 11, 83, 85, 55, 74, 81, 39, 33, 84, 25, 77, 90, 42, 45, 65,\n",
       "       74, 63, 14, 18, 53, 15, 26, 57, 26, 34, 15, 27, 26, 79, 37,  3, 43,\n",
       "       42, 53,  9, 24, 32, 15, 37, 41, 72,  3, 91, 94, 25, 94, 82, 62, 59,\n",
       "       50, 47, 76, 82, 59, 41, 48, 41, 85, 50, 53, 30, 82, 55,  9, 67, 89,\n",
       "       52,  3, 62,  1, 51, 58, 20, 28, 33, 57, 59, 30, 40, 31, 73],\n",
       "      dtype=int64)"
      ]
     },
     "execution_count": 28,
     "metadata": {},
     "output_type": "execute_result"
    }
   ],
   "source": [
    "sampled_indices"
   ]
  },
  {
   "cell_type": "code",
   "execution_count": 29,
   "id": "f5bf5757",
   "metadata": {},
   "outputs": [
    {
     "name": "stdout",
     "output_type": "stream",
     "text": [
      "Input:\n",
      " b'ugo nazista.\\nNa diplomacia, a coragem do Embaixador Luiz Martins\\nde Souza Dantas ajudou a salvar cen'\n",
      "\n",
      "Next Char Predictions:\n",
      " b'm\\xc3\\xa1DK?ZoE\\xc3\\x8d4;\\xc3\\x8dAcFlkOQ0\\xc3\\xa3\\xc3\\xa9gz\\xc3\\xa1PJ\\xc3\\xa7B\\xc3\\x81\\xc3\\xb5SVqzo37e4CiCK4DC\\xc3\\x8dN!TSe-AI4NRx!\\xc3\\xb6\\xe2\\x80\\x93B\\xe2\\x80\\x93\\xc3\\xa2nkbY\\xc2\\xba\\xc3\\xa2kRZR\\xc3\\xa9beG\\xc3\\xa2g-s\\xc3\\xb4d!n\\ncj9EJikGQHy'\n"
     ]
    }
   ],
   "source": [
    "print(\"Input:\\n\", text_from_ids(input_example_batch[0]).numpy())\n",
    "print()\n",
    "print(\"Next Char Predictions:\\n\", text_from_ids(sampled_indices).numpy())"
   ]
  },
  {
   "cell_type": "code",
   "execution_count": 30,
   "id": "d28dcc2d",
   "metadata": {},
   "outputs": [],
   "source": [
    "loss = tf.losses.SparseCategoricalCrossentropy(from_logits=True)"
   ]
  },
  {
   "cell_type": "code",
   "execution_count": 31,
   "id": "95253126",
   "metadata": {},
   "outputs": [
    {
     "name": "stdout",
     "output_type": "stream",
     "text": [
      "Prediction shape:  (64, 100, 97)  # (batch_size, sequence_length, vocab_size)\n",
      "Mean loss:         tf.Tensor(4.5759068, shape=(), dtype=float32)\n"
     ]
    }
   ],
   "source": [
    "example_batch_mean_loss = loss(target_example_batch, example_batch_predictions)\n",
    "print(\"Prediction shape: \", example_batch_predictions.shape, \" # (batch_size, sequence_length, vocab_size)\")\n",
    "print(\"Mean loss:        \", example_batch_mean_loss)"
   ]
  },
  {
   "cell_type": "code",
   "execution_count": 32,
   "id": "8da3192c",
   "metadata": {},
   "outputs": [
    {
     "data": {
      "text/plain": [
       "97.11606"
      ]
     },
     "execution_count": 32,
     "metadata": {},
     "output_type": "execute_result"
    }
   ],
   "source": [
    "tf.exp(example_batch_mean_loss).numpy()"
   ]
  },
  {
   "cell_type": "code",
   "execution_count": 33,
   "id": "f223d6c9",
   "metadata": {},
   "outputs": [],
   "source": [
    "model.compile(optimizer='adam', loss=tf.losses.SparseCategoricalCrossentropy(from_logits=True), metrics=['accuracy'])"
   ]
  },
  {
   "cell_type": "code",
   "execution_count": 34,
   "id": "2ab2032a",
   "metadata": {},
   "outputs": [],
   "source": [
    "# Directory where the checkpoints will be saved\n",
    "checkpoint_dir = 'C:\\\\Users\\\\natha\\\\anaconda3\\\\Text Generation with GAN_1'\n",
    "# Name of the checkpoint files\n",
    "checkpoint_prefix = os.path.join(checkpoint_dir, \"ckpt_{epoch}\")\n",
    "\n",
    "checkpoint_callback = tf.keras.callbacks.ModelCheckpoint(\n",
    "    filepath=checkpoint_prefix,\n",
    "    save_weights_only=True)"
   ]
  },
  {
   "cell_type": "code",
   "execution_count": 35,
   "id": "2431fa63",
   "metadata": {},
   "outputs": [
    {
     "name": "stdout",
     "output_type": "stream",
     "text": [
      "Epoch 1/5\n",
      "20/20 [==============================] - 48s 2s/step - loss: 3.9339 - accuracy: 0.1110\n",
      "Epoch 2/5\n",
      "20/20 [==============================] - 44s 2s/step - loss: 3.0373 - accuracy: 0.1805\n",
      "Epoch 3/5\n",
      "20/20 [==============================] - 43s 2s/step - loss: 2.7035 - accuracy: 0.2486\n",
      "Epoch 4/5\n",
      "20/20 [==============================] - 52s 3s/step - loss: 2.4850 - accuracy: 0.2776\n",
      "Epoch 5/5\n",
      "20/20 [==============================] - 45s 2s/step - loss: 2.3613 - accuracy: 0.3111\n"
     ]
    }
   ],
   "source": [
    "# Treinamento do modelo\n",
    "EPOCHS = 5\n",
    "history = model.fit(dataset, epochs=EPOCHS, callbacks=[checkpoint_callback])"
   ]
  },
  {
   "cell_type": "code",
   "execution_count": 36,
   "id": "7b4fda48",
   "metadata": {},
   "outputs": [
    {
     "name": "stdout",
     "output_type": "stream",
     "text": [
      "Epoch 1/5\n",
      "20/20 [==============================] - 40s 2s/step - loss: 2.2797 - accuracy: 0.3334\n",
      "Epoch 2/5\n",
      "20/20 [==============================] - 47s 2s/step - loss: 2.2104 - accuracy: 0.3483\n",
      "Epoch 3/5\n",
      "20/20 [==============================] - 44s 2s/step - loss: 2.1412 - accuracy: 0.3633\n",
      "Epoch 4/5\n",
      "20/20 [==============================] - 43s 2s/step - loss: 2.0707 - accuracy: 0.3837\n",
      "Epoch 5/5\n",
      "20/20 [==============================] - 43s 2s/step - loss: 1.9998 - accuracy: 0.4039\n"
     ]
    }
   ],
   "source": [
    "# Carregue o modelo treinado\n",
    "history = model.fit(dataset, epochs=EPOCHS, callbacks=[checkpoint_callback])"
   ]
  },
  {
   "cell_type": "code",
   "execution_count": 37,
   "id": "f9991ed6",
   "metadata": {},
   "outputs": [],
   "source": [
    "class OneStep(tf.keras.Model):\n",
    "  def __init__(self, model, chars_from_ids, ids_from_chars, temperature=1.0):\n",
    "    super().__init__()\n",
    "    self.temperature = temperature\n",
    "    self.model = model\n",
    "    self.chars_from_ids = chars_from_ids\n",
    "    self.ids_from_chars = ids_from_chars\n",
    "\n",
    "    # Create a mask to prevent \"[UNK]\" from being generated.\n",
    "    skip_ids = self.ids_from_chars(['[UNK]'])[:, None]\n",
    "    sparse_mask = tf.SparseTensor(\n",
    "        # Put a -inf at each bad index.\n",
    "        values=[-float('inf')]*len(skip_ids),\n",
    "        indices=skip_ids,\n",
    "        # Match the shape to the vocabulary\n",
    "        dense_shape=[len(ids_from_chars.get_vocabulary())])\n",
    "    self.prediction_mask = tf.sparse.to_dense(sparse_mask)\n",
    "\n",
    "  @tf.function\n",
    "  def generate_one_step(self, inputs, states=None):\n",
    "    # Convert strings to token IDs.\n",
    "    input_chars = tf.strings.unicode_split(inputs, 'UTF-8')\n",
    "    input_ids = self.ids_from_chars(input_chars).to_tensor()\n",
    "\n",
    "    # Run the model.\n",
    "    # predicted_logits.shape is [batch, char, next_char_logits]\n",
    "    predicted_logits, states = self.model(inputs=input_ids, states=states,\n",
    "                                          return_state=True)\n",
    "    # Only use the last prediction.\n",
    "    predicted_logits = predicted_logits[:, -1, :]\n",
    "    predicted_logits = predicted_logits/self.temperature\n",
    "    # Apply the prediction mask: prevent \"[UNK]\" from being generated.\n",
    "    predicted_logits = predicted_logits + self.prediction_mask\n",
    "\n",
    "    # Sample the output logits to generate token IDs.\n",
    "    predicted_ids = tf.random.categorical(predicted_logits, num_samples=1)\n",
    "    predicted_ids = tf.squeeze(predicted_ids, axis=-1)\n",
    "\n",
    "    # Convert from token ids to characters\n",
    "    predicted_chars = self.chars_from_ids(predicted_ids)\n",
    "\n",
    "    # Return the characters and model state.\n",
    "    return predicted_chars, states"
   ]
  },
  {
   "cell_type": "code",
   "execution_count": 38,
   "id": "990e5cae",
   "metadata": {},
   "outputs": [],
   "source": [
    "one_step_model = OneStep(model, chars_from_ids, ids_from_chars)"
   ]
  },
  {
   "cell_type": "code",
   "execution_count": 39,
   "id": "be6c40bb",
   "metadata": {},
   "outputs": [
    {
     "name": "stdout",
     "output_type": "stream",
     "text": [
      "tf.Tensor(\n",
      "[b'DISCURSO: s\\xc3\\xa3o tudanal, trapeumo a Prosilua da por\\xc3\\xadciol.\\nEstalia fanda poscurizer\\ne divos. Estabitam necemas l\\xc3\\xa3o cotermadento\\nda \\xc3\\x81friaciopola\\xc3\\xa7\\xc3\\xa3o ente mulro, entricar esa\\xc3\\xa7\\xc3\\xa3o deta antercentes jetenodos. Man\\xc3\\xa7a da fomen\\xc3\\xa7ades de herno uma desenve soblodo a na conda e extor of\\xc3\\xa9imo.\\nNom raspessom os pa\\xc3\\xadses prose que os deiti\\xc3\\xa1.\\nN\\xc3\\xbassul. Dis ossa sa Sulra recios.\\nMero s\\xc3\\xadcila\\xc3\\xa7\\xc3\\xa3o e crando, ura baporo o poraman\\xc3\\xa3os a\\xc3\\xa7adosma dos probsida\\xc3\\xa7\\xc3\\xa3o\\nda SIHhe. Qula o cates probulios luta emanios pura Am\\xc3\\xa9ros de n\\xc3\\xa1 insegrecuz.\\n53Vglodoalro,\\nN\\xc3\\xbafiocidas,\\nXrVezicase para core cras\\xc3\\xb3s\\ndo dos,s Sulaispais sul: ums pado a blaz\\xc3\\xa7\\xc3\\xa3o de i\\xc3\\xa3ongrana do repor cebia\\xc3\\xa7\\xc3\\xb5es nagentenho despras contesmo\\nde\\nAsutar am\\npasses m\\xc3\\xa9ido difecrojos.\\nON\\xc3\\xa1vimanve a sua jar impri\\xc3\\xa3o e fomul, N\\xc3\\xa3o firn\\xc3\\xa3o de da tecaros de vass\\xc3\\xa1dia, \\xe2\\x80\\x93 consta digar umontil-que fenaciis.\\nO do grascirente corecial,\\ndispo, am\\n\\xc3\\xa9gucanas\\nfa\\xc3\\xadrismu de\\nmobrizados processidacionas precar panar eplovaia son\\xc3\\xa3o \\xc3\\xa9ncetou o reparo Heze hos pa\\xc3\\xadstu spluto os lomento pal dejenas, supers\\xc3\\xa3o esgrundo'\n",
      " b'DISCURSO: Sence namrasido elegua, e coss\\xc3\\xa1cestombitaria a\\nc\\xc3\\xaanciato por e tarca L\\xc3\\xa94m encrescre\\xc3\\xa7\\xc3\\xa3o, da hura vercretidan\\xc3\\xb5es\\ncomha que togu\\xc3\\xa7\\xc3\\xa3o.\\nAmma peirabianal o jagensos pentenda alima biemos o Branal des astruanos africos loizado, equnaperas rmivos,\\nsia\\ntoda o prisinho, onapericarensol eme iras em\\natimano arengiladosdo a\\nprovacidada noverabeis ortan\\xc3\\xa1resso, bradidose de iltente nogem epexa\\xc3\\xa7\\xc3\\xa3o de\\nBrosulvial\\xc3\\xadticada canol\\xc3\\xb4micar es deverina-Es, as\\nfiansos. A s\\xc3\\xa3ruis alagoo emo da que o ha\\xc3\\xa7\\xc3\\xb5es em mussas pres de ixanvo dezes par-pacal.\\nO Baminadade ecenorenos a ertichos de acendar mupojum o 8 Dif\\xc3\\xb3licle am dessofr\\xc3\\xa1cul, mem das pera o dem coplanotris se hure -menidas. Tasa \\xe2\\x80\\x93 copera\\xc3\\xa7\\xc3\\xa3o do o mousar\\nprizeje prestenviar, esquem asto Lulhor: infegito., o couso mublu\\xc3\\xa7\\xc3\\xb5es\\nde\\ncomeilo. Estertas, melumonvis Se, porxio violida e menoco no 200 nossa o ente. An\\xc3\\xa1ricasento a os ou sobentras sente\\nrobeminar nossos essadorentes das boprisenvil, pessencilande con\\xe2\\x80\\x9d\\xc3\\xa7\\xc3\\xa3o am tummo retar h\\xc3\\xa1vesio fom\\xc3\\xa9imos esencaro resofomos imente'\n",
      " b'DISCURSO: totontas poos entis\\xc3\\xa1rona em\\xc3\\xa9ntemos\\nameria crenis,, com nossas de esteros ossem um ertescinpeutano\\ndo entros jea\\npr\\xc3\\xb3ticia que inse rer\\xc3\\xa1\\xc3\\xa7\\xc3\\xa3o do Briocenar cazentes, sexpreviopel\\xc3\\xaancia elol con\\xc3\\xb4miace o acreinazes rernos\\nmeitica\\xc3\\xa7\\xc3\\xa3o sarma nelemos comuntor.\\nMezo ama aire vom montia emor contares\\ne os Cresistos de perciter,\\nAprlido comi\\xc3\\xa3o e Padere que licues a, atraria. Essobroculia em quericio enderentarnos \\xc3\\xa0 prontitras,\\nesta sov\\xc3\\xb3 dazercim nosolvimes, entos a\\xc3\\xa3o untregrer comuna\\niontra efres. Estamer obteros de ana\\xc3\\xa7\\xc3\\xb5es emgosocrenos de a2 Banhos portas tan\\xc3\\xadsisiso e a \\xc3\\x8dsser caposcanol destestididomos inter astivou da um gombantor contirdo, e or aismo he infenso da harrivo Esos prosista\\xc3\\xa7\\xc3\\xa3o\\na e copes o Dascontames destas\\ncrianionicos jes cempos g\\xc3\\xa1reos probreique poz S\\xc3\\xa1lvio noscena\\xc3\\xa7\\xc3\\xa3osos..\\nPriclu\\xc3\\xa7a erte, cobgrunundo, Mas pa\\xc3\\xadsegunss. Sar de suia pove pricuriando go nas\\nendizenas; t\\xc3\\xa3o de\\ncr\\xc3\\xb3cisos que ou dosento Interva Goro a Co. Possa intexee epormos querivo esconsimos.\\nOu a mulaio que alinada a uma '\n",
      " b'DISCURSO:\\nbe a foranirade, pal atidadelem, Sul, nasso inteu sobila\\xc3\\xa7\\xc3\\xb5essas praberico, em fributitido.\\ntecoramos em Unhares e rechess\\xc3\\xa3o\\ncam que n\\xc3\\xb3lemo de foco o U1)\\nforosem fil \\xc3\\xa9\\xc3\\xa7ar\\xc3\\xa1ves pat\\xc3\\xadcios, a\\nnossidos jos qualvidado e que ho ume i\\xc3\\xa3o ende.\\nMadacos a intercomimente, o \\xe2\\x80\\x9cX6Dso para e tum iteploviol.\\nDelvesnacistuno a sobroci\\xc3\\xadmicral\\xc3\\xa2ncia Aprens\\nconsido da Selades ganda comenterencom e come porera eotra alidasicas \\xc3\\xa0 Cojante nos pa\\xc3\\xadcos a 43\\nmal\\xc3\\xadvelem icita\\xc3\\xa7\\xc3\\xa3o\\nextivas.\\nDos des para\\xc3\\xa7\\xc3\\xa3o at\\xc3\\xa9rorrobados\\nna ciacossa vogridar um trato coss foregraa o Selerhaiceis Ghoricionos o \\xc3\\xa9 aci\\xc3\\xa3o da\\ne prades, coralianemos em hegriamos dom h\\xc3\\xb3zetiras, conte nossas.\\nMonc\\xc3\\xa3o Brabia e o\\nque e misenso, que\\nde luri\\xc3\\xaacararaiso n\\xc3\\xb3 alginaros, spenteriza\\xc3\\xa7\\xc3\\xa3o do Cas e ados desenco, vestas prosi\\xc3\\xa1, Coje fapau\\xc3\\xa7os umaris.\\nDeros por\\xc3\\xaacica dospet\\xc3\\xa2ncida probila\\xc3\\xa7\\xc3\\xa3o da os amos dort\\xc3\\xa3o de abalia, e sea ossas ostrerio que cindo ques\\nproselvemente im t\\xc3\\xa9vondo\\nvan\\xc3\\xa3o de fotaz\\ncomo cuntivanimas. A preciatoce Im porse e tor do e parmedom.\\nNossas dess'\n",
      " b'DISCURSO: Sal\\nRera\\nAfenha. O f\\xc3\\xa9ra,\\ndest\\xc3\\xaar issos\\xc3\\xa3a e\\nos pampos do dera da pole apaco\\nrou sult\\xc3\\xaancia ilem\\xc3\\xa9i\\xc3\\xa7o\\ndapendurida, 27\\nBra\\xc3\\xa7\\xc3\\xa3o de\\nnisentom grna asem-um Mesio e segres a aginadio, pazar do Neso fodo \\xc3\\xa9 Reclonal com estrema suivassta roncoltomar impuras vast\\xc3\\xa1rercou dis\\xc3\\xa1ri\\xc3\\xa3o de Es desirmadadeu que e gonda pobraco \\xc3\\xa9 ecinalhe belteria\\nonviat-Brras emponstlutita\\nda mentis.\\n\\xc3\\x89 cont\\xc3\\xaddos palaiscos ponses cinh\\xc3\\xaanclivade que am n\\xc3\\xa3possses veltos torLu\\xc3\\xa7\\xc3\\xa3o de sobilez\\nnossam anterados es\\nPreseco, acinalizalimas de aciani\\xc3\\xa7\\xc3\\xa3o de hundar onionvilho\\ntrmais \\xe2\\x80\\x93 uma\\nmos que os 35 am\\xc3\\xa9 circuntiridal e sicues.\\nOm digerios,\\nselhorom s\\xc3\\xa3o prosemos asor ividos\\nesso asgrnacega\\xc3\\xa7\\xc3\\xa3o de a disercaia muis\\ndecridos umo pradicrado, extran\\xc3\\xa7\\xc3\\xa3o de 6% code inntelemes.\\nVeciarsam pa\\xc3\\xadses codo havadado, enta\\xc3\\xa7o o N\\xc3\\xa7\\xc3\\xb5es dovargimuna enco teram, no Su\\xc3\\xa7\\xc3\\xb5es\\ndasonso:\\ng\\xc3\\xadde cande inste sumanes nosciansidade\\nparnuali\\xc3\\xa1..\\nDicresos quelenta inscitinete bula na sobleda\\ndo Passerco madicas. 3 33\\nGobilalvia a sovaleume, a pa\\xc3\\xadsider, porcanimentes. Enter anse'], shape=(5,), dtype=string) \n",
      "\n",
      "________________________________________________________________________________\n",
      "\n",
      "Run time: 4.018581390380859\n"
     ]
    }
   ],
   "source": [
    "import time\n",
    "\n",
    "start = time.time()\n",
    "states = None\n",
    "next_char = tf.constant(['DISCURSO:', 'DISCURSO:', 'DISCURSO:', 'DISCURSO:', 'DISCURSO:'])\n",
    "result = [next_char]\n",
    "\n",
    "for n in range(1000):\n",
    "  next_char, states = one_step_model.generate_one_step(next_char, states=states)\n",
    "  result.append(next_char)\n",
    "\n",
    "result = tf.strings.join(result)\n",
    "end = time.time()\n",
    "print(result, '\\n\\n' + '_'*80)\n",
    "print('\\nRun time:', end - start)"
   ]
  },
  {
   "cell_type": "code",
   "execution_count": 40,
   "id": "e546b785",
   "metadata": {},
   "outputs": [
    {
     "name": "stdout",
     "output_type": "stream",
     "text": [
      "WARNING:tensorflow:Skipping full serialization of Keras layer <__main__.OneStep object at 0x0000016C98D4FFD0>, because it is not built.\n",
      "WARNING:tensorflow:Model's `__init__()` arguments contain non-serializable objects. Please implement a `get_config()` method in the subclassed Model for proper saving and loading. Defaulting to empty config.\n",
      "WARNING:tensorflow:Model's `__init__()` arguments contain non-serializable objects. Please implement a `get_config()` method in the subclassed Model for proper saving and loading. Defaulting to empty config.\n",
      "INFO:tensorflow:Assets written to: one_step\\assets\n"
     ]
    },
    {
     "name": "stderr",
     "output_type": "stream",
     "text": [
      "INFO:tensorflow:Assets written to: one_step\\assets\n"
     ]
    }
   ],
   "source": [
    "tf.saved_model.save(one_step_model, 'one_step')\n",
    "one_step_reloaded = tf.saved_model.load('one_step')"
   ]
  },
  {
   "cell_type": "code",
   "execution_count": 41,
   "id": "4f07c6b5",
   "metadata": {},
   "outputs": [
    {
     "name": "stdout",
     "output_type": "stream",
     "text": [
      "DISCURSO: extruas. Que aos revecalios da Separação empolítos intetur do Uque as prolívile. Dos príje os 2\n",
      "X4 \n"
     ]
    }
   ],
   "source": [
    "states = None\n",
    "next_char = tf.constant(['DISCURSO:'])\n",
    "result = [next_char]\n",
    "\n",
    "for n in range(100):\n",
    "  next_char, states = one_step_model.generate_one_step(next_char, states=states)\n",
    "  result.append(next_char)\n",
    "\n",
    "print(tf.strings.join(result)[0].numpy().decode(\"utf-8\"))\n"
   ]
  },
  {
   "cell_type": "markdown",
   "id": "d9a61f2d",
   "metadata": {},
   "source": [
    "Gráfico de Precisão: Se estiver treinando um modelo de classificação, você pode adicionar um gráfico de precisão da mesma maneira que o gráfico de perda."
   ]
  },
  {
   "cell_type": "code",
   "execution_count": 42,
   "id": "3525e3d0",
   "metadata": {},
   "outputs": [
    {
     "data": {
      "image/png": "[encoded data removed]",
      "text/plain": [
       "<Figure size 720x432 with 1 Axes>"
      ]
     },
     "metadata": {
      "needs_background": "light"
     },
     "output_type": "display_data"
    }
   ],
   "source": [
    "import matplotlib.pyplot as plt\n",
    "\n",
    "# Função para plotar o gráfico de precisão sobre os modelos treinados\n",
    "def plot_accuracy(history):\n",
    "    plt.figure(figsize=(10, 6))\n",
    "    plt.plot(history.history['accuracy'], label='Precisão', marker='o', linestyle='-')\n",
    "    plt.title('Precisão do Modelo ao Longo das Épocas')\n",
    "    plt.xlabel('Épocas')\n",
    "    plt.ylabel('Precisão')\n",
    "    plt.legend(loc='lower right')\n",
    "    plt.grid(True)\n",
    "    plt.show()\n",
    "\n",
    "\n",
    "plot_accuracy(history)"
   ]
  },
  {
   "cell_type": "markdown",
   "id": "68f83033",
   "metadata": {},
   "source": [
    "Gráfico de Perda: Isso já está incluído no treinamento, mas você pode personalizá-lo para torná-lo mais visualmente atraente. Você pode usar bibliotecas de plotagem, como Matplotlib ou Seaborn, para criar um gráfico de linha que mostra a perda ao longo das épocas."
   ]
  },
  {
   "cell_type": "code",
   "execution_count": 45,
   "id": "1d9355ec",
   "metadata": {},
   "outputs": [
    {
     "data": {
      "image/png": "[encoded data removed]",
      "text/plain": [
       "<Figure size 720x432 with 1 Axes>"
      ]
     },
     "metadata": {
      "needs_background": "light"
     },
     "output_type": "display_data"
    }
   ],
   "source": [
    "import matplotlib.pyplot as plt\n",
    "\n",
    "def plot_loss(history):\n",
    "    plt.figure(figsize=(10, 6))\n",
    "    plt.plot(history.history['loss'], label='Perda', marker='o', linestyle='-')\n",
    "    plt.title('Perda do Modelo ao Longo das Épocas')\n",
    "    plt.xlabel('Épocas')\n",
    "    plt.ylabel('Perda')\n",
    "    plt.legend()\n",
    "    plt.show()\n",
    "    \n",
    "plot_loss(history)"
   ]
  },
  {
   "cell_type": "markdown",
   "id": "178263cf",
   "metadata": {},
   "source": [
    "Comparação de Modelos: Se você deseja comparar o desempenho de diferentes modelos ou configurações de hiperparâmetros, pode criar um gráfico de barras que mostra as métricas (perda, precisão, etc.) de cada modelo lado a lado. Aqui está um exemplo simples usando Matplotlib:"
   ]
  },
  {
   "cell_type": "code",
   "execution_count": 44,
   "id": "9fd31eb7",
   "metadata": {},
   "outputs": [
    {
     "data": {
      "image/png": "[encoded data removed]",
      "text/plain": [
       "<Figure size 720x432 with 1 Axes>"
      ]
     },
     "metadata": {
      "needs_background": "light"
     },
     "output_type": "display_data"
    }
   ],
   "source": [
    "import matplotlib.pyplot as plt\n",
    "\n",
    "models = ['Modelo 1', 'Modelo 2', 'Modelo 3']\n",
    "loss = [0.5, 0.4, 0.6]\n",
    "accuracy = [0.8, 0.85, 0.75]\n",
    "\n",
    "fig, ax = plt.subplots(figsize=(10, 6))\n",
    "width = 0.35\n",
    "x = range(len(models))\n",
    "\n",
    "bar1 = ax.bar(x, loss, width, label='Perda')\n",
    "bar2 = ax.bar([i + width for i in x], accuracy, width, label='Precisão')\n",
    "\n",
    "ax.set_xlabel('Modelos')\n",
    "ax.set_ylabel('Métricas')\n",
    "ax.set_title('Comparação de Modelos')\n",
    "ax.set_xticks([i + width / 2 for i in x])\n",
    "ax.set_xticklabels(models)\n",
    "ax.legend()\n",
    "\n",
    "plt.show()"
   ]
  },
  {
   "cell_type": "markdown",
   "id": "588ceaac",
   "metadata": {},
   "source": [
    "Gráfico de Evolução do Texto Gerado: Se você estiver gerando texto com o modelo treinado, pode criar um gráfico que mostre a evolução do texto gerado ao longo das épocas. Por exemplo, você pode escolher algumas épocas intermediárias e gerar texto com o modelo em cada uma delas, depois plotar o texto gerado em um gráfico."
   ]
  },
  {
   "cell_type": "code",
   "execution_count": 46,
   "id": "0d5023e8",
   "metadata": {},
   "outputs": [
    {
     "data": {
      "image/png": "[encoded data removed]",
      "text/plain": [
       "<Figure size 720x432 with 1 Axes>"
      ]
     },
     "metadata": {
      "needs_background": "light"
     },
     "output_type": "display_data"
    }
   ],
   "source": [
    "import matplotlib.pyplot as plt\n",
    "\n",
    "# Épocas escolhidas\n",
    "epochs = [1, 5, 10, 15, 20]\n",
    "\n",
    "# Texto gerado em cada época\n",
    "generated_text = [\n",
    "    \"Texto gerado na época 1\",\n",
    "    \"Texto gerado na época 5\",\n",
    "    \"Texto gerado na época 10\",\n",
    "    \"Texto gerado na época 15\",\n",
    "    \"Texto gerado na época 20\"\n",
    "]\n",
    "\n",
    "# Crie um gráfico de linha para mostrar a evolução do texto gerado\n",
    "plt.figure(figsize=(10, 6))\n",
    "plt.plot(epochs, generated_text, marker='o', linestyle='-')\n",
    "plt.title('Evolução do Texto Gerado ao Longo das Épocas')\n",
    "plt.xlabel('Épocas')\n",
    "plt.ylabel('Texto Gerado')\n",
    "plt.grid(True)\n",
    "plt.show()"
   ]
  },
  {
   "cell_type": "code",
   "execution_count": null,
   "id": "26c63a74",
   "metadata": {},
   "outputs": [],
   "source": []
  }
 ],
 "metadata": {
  "kernelspec": {
   "display_name": "Python 3 (ipykernel)",
   "language": "python",
   "name": "python3"
  },
  "language_info": {
   "codemirror_mode": {
    "name": "ipython",
    "version": 3
   },
   "file_extension": ".py",
   "mimetype": "text/x-python",
   "name": "python",
   "nbconvert_exporter": "python",
   "pygments_lexer": "ipython3",
   "version": "3.9.7"
  }
 },
 "nbformat": 4,
 "nbformat_minor": 5
}
